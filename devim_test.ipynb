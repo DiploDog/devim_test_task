{
 "cells": [
  {
   "cell_type": "code",
   "execution_count": 312,
   "id": "bea39b14",
   "metadata": {},
   "outputs": [],
   "source": [
    "import pandas as pd\n",
    "import numpy as np\n",
    "import matplotlib.pyplot as plt"
   ]
  },
  {
   "cell_type": "code",
   "execution_count": 299,
   "id": "0f2b95d9",
   "metadata": {},
   "outputs": [],
   "source": [
    "orders_df = pd.read_csv(\"data/orders.csv\")\n",
    "payments_df = pd.read_csv(\"data/payments.csv\")\n",
    "plan_df = pd.read_csv(\"data/plan.csv\")"
   ]
  },
  {
   "cell_type": "markdown",
   "id": "817c84f1",
   "metadata": {},
   "source": [
    "### Шаг 1. Приведение данных и первичный анализ"
   ]
  },
  {
   "cell_type": "markdown",
   "id": "ab365103",
   "metadata": {},
   "source": [
    "Возьмем объект дата+время, распарсим его и возьмем только дату, для корректной группировки. Будем считать фактом просрочки платежа по дате - факт наступления следующего дня после `plan_date`.\n",
    "Имея это в виду, *рассчитаем суммарный платеж за день для каждого заказа*:"
   ]
  },
  {
   "cell_type": "code",
   "execution_count": 300,
   "id": "1af230a3",
   "metadata": {},
   "outputs": [
    {
     "data": {
      "text/html": [
       "<div>\n",
       "<style scoped>\n",
       "    .dataframe tbody tr th:only-of-type {\n",
       "        vertical-align: middle;\n",
       "    }\n",
       "\n",
       "    .dataframe tbody tr th {\n",
       "        vertical-align: top;\n",
       "    }\n",
       "\n",
       "    .dataframe thead th {\n",
       "        text-align: right;\n",
       "    }\n",
       "</style>\n",
       "<table border=\"1\" class=\"dataframe\">\n",
       "  <thead>\n",
       "    <tr style=\"text-align: right;\">\n",
       "      <th></th>\n",
       "      <th>order_id</th>\n",
       "      <th>paid_at_date</th>\n",
       "      <th>paid_sum</th>\n",
       "    </tr>\n",
       "  </thead>\n",
       "  <tbody>\n",
       "    <tr>\n",
       "      <th>0</th>\n",
       "      <td>400001732</td>\n",
       "      <td>2022-06-02</td>\n",
       "      <td>5600.0</td>\n",
       "    </tr>\n",
       "    <tr>\n",
       "      <th>1</th>\n",
       "      <td>400001732</td>\n",
       "      <td>2022-06-16</td>\n",
       "      <td>3850.0</td>\n",
       "    </tr>\n",
       "    <tr>\n",
       "      <th>2</th>\n",
       "      <td>400001732</td>\n",
       "      <td>2022-07-15</td>\n",
       "      <td>2720.0</td>\n",
       "    </tr>\n",
       "  </tbody>\n",
       "</table>\n",
       "</div>"
      ],
      "text/plain": [
       "    order_id paid_at_date  paid_sum\n",
       "0  400001732   2022-06-02    5600.0\n",
       "1  400001732   2022-06-16    3850.0\n",
       "2  400001732   2022-07-15    2720.0"
      ]
     },
     "execution_count": 300,
     "metadata": {},
     "output_type": "execute_result"
    }
   ],
   "source": [
    "payments_df[\"paid_at_date\"] = pd.to_datetime(payments_df[\"paid_at\"], format=\"%Y-%m-%d %H:%M:%S.%f\").dt.date\n",
    "payments_df = payments_df.groupby([\"order_id\", \"paid_at_date\"])[\"paid_sum\"].sum().reset_index()\n",
    "payments_df.head(3)"
   ]
  },
  {
   "cell_type": "markdown",
   "id": "e1e1806f",
   "metadata": {},
   "source": [
    "Объединим таблицы `plan_df` и `payments_df` по ключу `order_id` c сортировкой вдоль оси дат оплаты и приведением типов дат."
   ]
  },
  {
   "cell_type": "code",
   "execution_count": 301,
   "id": "70ba031d",
   "metadata": {},
   "outputs": [],
   "source": [
    "planNpayments = plan_df\\\n",
    "                    .merge(payments_df, on=\"order_id\", sort=\"paid_at_date\", how=\"right\")\\\n",
    "                    .apply(lambda column: pd.to_datetime(column) \n",
    "                                if \"_at\" in column.name \n",
    "                                else column)\n",
    "\n",
    "# Отбросим повторы значений по присоединенным payment-столбцам\n",
    "planNpayments = planNpayments[planNpayments[\"plan_at\"].dt.month == planNpayments[\"paid_at_date\"].dt.month]"
   ]
  },
  {
   "cell_type": "markdown",
   "id": "04445a8a",
   "metadata": {},
   "source": [
    "Разобьем кумулятивную сумму столбца `plan_sum_total` при помощи метода `.diff()` и заполним пропущенные значения, значениями первых сумм платежей, так, чтобы вычислять <u>разность между необходимой суммой платежа и платежом по факту</u>."
   ]
  },
  {
   "cell_type": "code",
   "execution_count": 302,
   "id": "613f38c3",
   "metadata": {},
   "outputs": [],
   "source": [
    "planNpayments[\"plan_sum\"] = planNpayments\\\n",
    "                        .groupby(\"order_id\")[\"plan_sum_total\"]\\\n",
    "                        .diff()\\\n",
    "                        .fillna(planNpayments[\"plan_sum_total\"])"
   ]
  },
  {
   "cell_type": "markdown",
   "id": "8f1f858e",
   "metadata": {},
   "source": [
    "Вычислим <u>разность</u>, описанную на предыдущем шаге, и *посчитаем кумулятивный остаток*. Таким образом,\n",
    "- положительные значения в столбце `result` отвечают досрочному покрытию требуемой суммы;\n",
    "- отрицательные значения в столбце `result` отвечают просрочке по платежу;\n",
    "- равные 0 - строки, свидетельствующие о своевременном внесении платежа требуемой суммы."
   ]
  },
  {
   "cell_type": "code",
   "execution_count": 303,
   "id": "87047f22",
   "metadata": {},
   "outputs": [],
   "source": [
    "planNpayments[\"pp_sum_diff\"] = planNpayments[\"paid_sum\"] - planNpayments[\"plan_sum\"]\n",
    "planNpayments[\"result\"] = planNpayments.groupby(\"order_id\")[\"pp_sum_diff\"].cumsum()"
   ]
  },
  {
   "cell_type": "code",
   "execution_count": 313,
   "id": "6b15049f",
   "metadata": {},
   "outputs": [
    {
     "name": "stdout",
     "output_type": "stream",
     "text": [
      "\n",
      "    Подведем промежуточный итог, считая все транзакции за день по данному заказу одним платежом:\n",
      "\n",
      "    По всем заказам произведено суммарно 225543 платежей. \n",
      "    Из них долгов на конец расчетных периодов: 18861 в т.ч. просроченных платежей: 1342\n",
      "    \n"
     ]
    }
   ],
   "source": [
    "total = planNpayments.shape[0]\n",
    "debts = (planNpayments.result < 0).sum()\n",
    "missed = ((planNpayments.result < 0) & (planNpayments.plan_at < planNpayments.paid_at_date)).sum()\n",
    "\n",
    "print(\n",
    "    f\"\"\"\n",
    "    Подведем промежуточный итог, считая все транзакции за день по данному заказу одним платежом:\\n\n",
    "    По всем заказам произведено суммарно {total} платежей. \n",
    "    Из них долгов на конец расчетных периодов: {debts} в т.ч. просроченных платежей: {missed}\n",
    "    \"\"\"\n",
    ")"
   ]
  },
  {
   "cell_type": "code",
   "execution_count": 322,
   "id": "36f17ffc",
   "metadata": {},
   "outputs": [],
   "source": [
    "pieplot_data_dict = {\n",
    "    \"Выполненных обязательств\": total - debts,\n",
    "    \"Невыполненных обязательств\": debts - missed,\n",
    "    \"Просроченных платежей\": missed\n",
    "}\n",
    "pieplot_data = pd.DataFrame(\n",
    "    data=pieplot_data_dict,\n",
    "    columns=pieplot_data_dict.keys(),\n",
    "    index=[0]\n",
    ")"
   ]
  },
  {
   "cell_type": "markdown",
   "id": "06ca37c5",
   "metadata": {},
   "source": [
    "Проиллюстрируем подведенный промежуточный итог на круговой диаграмме."
   ]
  },
  {
   "cell_type": "code",
   "execution_count": 377,
   "id": "9ec8b8fd",
   "metadata": {},
   "outputs": [
    {
     "data": {
      "image/png": "[encoded data removed]",
      "text/plain": [
       "<Figure size 640x480 with 1 Axes>"
      ]
     },
     "metadata": {},
     "output_type": "display_data"
    }
   ],
   "source": [
    "fig, ax = plt.subplots()\n",
    "explode = [0, 0.2, 0.4]\n",
    "colors = [\"Bisque\", \"SandyBrown\", \"Red\"]\n",
    "shadow = {\n",
    "    'ox': 0.01, \n",
    "    'edgecolor': 'white', \n",
    "    'shade': 0.9\n",
    "}\n",
    "\n",
    "labels = pieplot_data_dict.keys()\n",
    "ax.pie(pieplot_data.iloc[0,:], \n",
    "       explode=explode, \n",
    "       labels=labels, \n",
    "       autopct='%1.1f%%',\n",
    "       shadow=shadow,\n",
    "       startangle=50,\n",
    "       pctdistance=1.3,\n",
    "       colors=colors\n",
    "      )\n",
    "plt.tight_layout()\n",
    "plt.show()"
   ]
  },
  {
   "cell_type": "markdown",
   "id": "7d47a3e7",
   "metadata": {},
   "source": [
    "### Шаг 2. Анализ динамики невыполненных обязательств"
   ]
  },
  {
   "cell_type": "markdown",
   "id": "6809907c",
   "metadata": {},
   "source": [
    "Под **невыполненными обязательствами** на этом шаге будем подразумевать **сумму невыполненых обязательств и просроченных платежей**, дифференцированных друг от друга на шаге 1"
   ]
  },
  {
   "cell_type": "markdown",
   "id": "852f9ae0",
   "metadata": {},
   "source": [
    "Построим график динамики количества всех выполненных и невыполненных обязательств в одних координатах. Для чего выделим соответствующих два датасета"
   ]
  },
  {
   "cell_type": "code",
   "execution_count": 379,
   "id": "5409c2ba",
   "metadata": {},
   "outputs": [],
   "source": [
    "ffilled_oblgtns = planNpayments[planNpayments.result >= 0].groupby(\"paid_at_date\")[\"result\"].count()\n",
    "unffilled_oblgtns = planNpayments[planNpayments.result < 0].groupby(\"paid_at_date\")[\"result\"].count()"
   ]
  },
  {
   "cell_type": "code",
   "execution_count": 393,
   "id": "c0e0d973",
   "metadata": {},
   "outputs": [
    {
     "data": {
      "text/plain": [
       "<matplotlib.lines.Line2D at 0x25a8d1cd1d0>"
      ]
     },
     "execution_count": 393,
     "metadata": {},
     "output_type": "execute_result"
    },
    {
     "data": {
      "image/png": "[encoded data removed]",
      "text/plain": [
       "<Figure size 640x480 with 1 Axes>"
      ]
     },
     "metadata": {},
     "output_type": "display_data"
    }
   ],
   "source": [
    "fig, ax = plt.subplots()\n",
    "\n",
    "ax.ecdf(\n",
    "    ffilled_oblgtns.index,\n",
    "    ffilled_oblgtns.values\n",
    ")\n",
    "ax.ecdf(\n",
    "    unffilled_oblgtns.index,\n",
    "    unffilled_oblgtns.values\n",
    ")"
   ]
  }
 ],
 "metadata": {
  "kernelspec": {
   "display_name": "Python 3 (ipykernel)",
   "language": "python",
   "name": "python3"
  },
  "language_info": {
   "codemirror_mode": {
    "name": "ipython",
    "version": 3
   },
   "file_extension": ".py",
   "mimetype": "text/x-python",
   "name": "python",
   "nbconvert_exporter": "python",
   "pygments_lexer": "ipython3",
   "version": "3.11.7"
  }
 },
 "nbformat": 4,
 "nbformat_minor": 5
}
